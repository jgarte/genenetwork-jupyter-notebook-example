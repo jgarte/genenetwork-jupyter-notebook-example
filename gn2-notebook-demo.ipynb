{
 "cells": [
  {
   "cell_type": "markdown",
   "metadata": {},
   "source": [
    "# GeneNetwork REST API Demo\n",
    "\n",
    "![Binderlite](https://raw.githubusercontent.com/jgarte/binderlite-example/main/deploy-with-guix-badge.svg)\n",
    "\n",
    "[notebook source code](https://git.genenetwork.org/jgart/genenetwork-jupyter-notebook-example)"
   ]
  },
  {
   "cell_type": "code",
   "execution_count": null,
   "metadata": {},
   "outputs": [],
   "source": [
    "import requests"
   ]
  },
  {
   "cell_type": "markdown",
   "metadata": {},
   "source": [
    "## Fetching Datasets"
   ]
  },
  {
   "cell_type": "code",
   "execution_count": null,
   "metadata": {
    "scrolled": false
   },
   "outputs": [],
   "source": [
    "data = requests.get(\"http://genenetwork.org/api/v_pre1/species\")\n",
    "print(data.json())"
   ]
  },
  {
   "cell_type": "markdown",
   "metadata": {},
   "source": [
    "## Getting information about a single species\n"
   ]
  },
  {
   "cell_type": "code",
   "execution_count": null,
   "metadata": {},
   "outputs": [],
   "source": [
    "data = requests.get(\"http://genenetwork.org/api/v_pre1/species/mouse\")\n",
    "print(data.json())"
   ]
  },
  {
   "cell_type": "markdown",
   "metadata": {},
   "source": [
    "## Fetching Genotypes for Group/RISet\n"
   ]
  },
  {
   "cell_type": "code",
   "execution_count": null,
   "metadata": {},
   "outputs": [],
   "source": [
    "api = 'http://genenetwork.org/api/v_pre1/genotypes/bimbam/BXD'\n",
    "\n",
    "response = requests.get(api)\n",
    "\n",
    "if response.status_code != 200:\n",
    "    print('Failed to get data:', response.status_code)\n",
    "else:\n",
    "    print(\"Group/RISet Genotype Data: \")\n",
    "    print(response.text[:50000])"
   ]
  },
  {
   "cell_type": "markdown",
   "metadata": {},
   "source": [
    "## Manipulating Datasets Declaratively with glom\n"
   ]
  },
  {
   "cell_type": "code",
   "execution_count": null,
   "metadata": {},
   "outputs": [],
   "source": [
    "import json\n",
    "from pprint import pprint\n",
    "\n",
    "from glom import glom\n",
    "\n",
    "r = requests.get(\"http://genenetwork.org/api/v_pre1/datasets/bxd\")\n",
    "\n",
    "input_data = r.json()\n",
    "\n",
    "spec = [{\"Full Name\": \"FullName\", \n",
    "        \"Probe Freeze Id\": \"ProbeFreezeId\"}]\n",
    "\n",
    "output_data = glom(input_data, spec)\n",
    "\n",
    "pprint(output_data)"
   ]
  }
 ],
 "metadata": {
  "kernelspec": {
   "display_name": "Python 3",
   "language": "/gnu/store/nckjv3ccwdi6096j478gvns43ssbls2p-python-wrapper-3.8.2/bin/python",
   "name": "python3"
  },
  "language_info": {
   "codemirror_mode": {
    "name": "ipython",
    "version": 3
   },
   "file_extension": ".py",
   "mimetype": "text/x-python",
   "name": "python",
   "nbconvert_exporter": "python",
   "pygments_lexer": "ipython3",
   "version": "3.8.2"
  }
 },
 "nbformat": 4,
 "nbformat_minor": 2
}
